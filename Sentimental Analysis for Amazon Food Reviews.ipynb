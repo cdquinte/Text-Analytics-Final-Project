{
 "cells": [
  {
   "cell_type": "markdown",
   "metadata": {},
   "source": [
    "## Import Packages"
   ]
  },
  {
   "cell_type": "code",
   "execution_count": 1,
   "metadata": {
    "collapsed": true
   },
   "outputs": [],
   "source": [
    "import pandas as pd\n",
    "import numpy as np\n",
    "import pandas as pd\n",
    "import nltk\n",
    "from sklearn.feature_extraction.text import TfidfVectorizer\n",
    "from nltk.corpus import stopwords, wordnet\n",
    "from nltk.stem import WordNetLemmatizer"
   ]
  },
  {
   "cell_type": "code",
   "execution_count": 2,
   "metadata": {},
   "outputs": [
    {
     "data": {
      "text/html": [
       "<div>\n",
       "<style scoped>\n",
       "    .dataframe tbody tr th:only-of-type {\n",
       "        vertical-align: middle;\n",
       "    }\n",
       "\n",
       "    .dataframe tbody tr th {\n",
       "        vertical-align: top;\n",
       "    }\n",
       "\n",
       "    .dataframe thead th {\n",
       "        text-align: right;\n",
       "    }\n",
       "</style>\n",
       "<table border=\"1\" class=\"dataframe\">\n",
       "  <thead>\n",
       "    <tr style=\"text-align: right;\">\n",
       "      <th></th>\n",
       "      <th>Unnamed: 0</th>\n",
       "      <th>Id</th>\n",
       "      <th>ProductId</th>\n",
       "      <th>UserId</th>\n",
       "      <th>ProfileName</th>\n",
       "      <th>HelpfulnessNumerator</th>\n",
       "      <th>HelpfulnessDenominator</th>\n",
       "      <th>Score</th>\n",
       "      <th>Time</th>\n",
       "      <th>Summary</th>\n",
       "      <th>Text</th>\n",
       "      <th>Time_updated</th>\n",
       "      <th>Year</th>\n",
       "      <th>Month</th>\n",
       "    </tr>\n",
       "  </thead>\n",
       "  <tbody>\n",
       "    <tr>\n",
       "      <th>0</th>\n",
       "      <td>1</td>\n",
       "      <td>2</td>\n",
       "      <td>B00813GRG4</td>\n",
       "      <td>A1D87F6ZCVE5NK</td>\n",
       "      <td>dll pa</td>\n",
       "      <td>0</td>\n",
       "      <td>0</td>\n",
       "      <td>1</td>\n",
       "      <td>1346976000</td>\n",
       "      <td>Not as Advertised</td>\n",
       "      <td>Product arrived labeled as Jumbo Salted Peanut...</td>\n",
       "      <td>2012-09-06 17:00:00</td>\n",
       "      <td>2012</td>\n",
       "      <td>9</td>\n",
       "    </tr>\n",
       "    <tr>\n",
       "      <th>1</th>\n",
       "      <td>4</td>\n",
       "      <td>5</td>\n",
       "      <td>B006K2ZZ7K</td>\n",
       "      <td>A1UQRSCLF8GW1T</td>\n",
       "      <td>Michael D. Bigham \"M. Wassir\"</td>\n",
       "      <td>0</td>\n",
       "      <td>0</td>\n",
       "      <td>5</td>\n",
       "      <td>1350777600</td>\n",
       "      <td>Great taffy</td>\n",
       "      <td>Great taffy at a great price.  There was a wid...</td>\n",
       "      <td>2012-10-20 17:00:00</td>\n",
       "      <td>2012</td>\n",
       "      <td>10</td>\n",
       "    </tr>\n",
       "    <tr>\n",
       "      <th>2</th>\n",
       "      <td>5</td>\n",
       "      <td>6</td>\n",
       "      <td>B006K2ZZ7K</td>\n",
       "      <td>ADT0SRK1MGOEU</td>\n",
       "      <td>Twoapennything</td>\n",
       "      <td>0</td>\n",
       "      <td>0</td>\n",
       "      <td>4</td>\n",
       "      <td>1342051200</td>\n",
       "      <td>Nice Taffy</td>\n",
       "      <td>I got a wild hair for taffy and ordered this f...</td>\n",
       "      <td>2012-07-11 17:00:00</td>\n",
       "      <td>2012</td>\n",
       "      <td>7</td>\n",
       "    </tr>\n",
       "    <tr>\n",
       "      <th>3</th>\n",
       "      <td>6</td>\n",
       "      <td>7</td>\n",
       "      <td>B006K2ZZ7K</td>\n",
       "      <td>A1SP2KVKFXXRU1</td>\n",
       "      <td>David C. Sullivan</td>\n",
       "      <td>0</td>\n",
       "      <td>0</td>\n",
       "      <td>5</td>\n",
       "      <td>1340150400</td>\n",
       "      <td>Great!  Just as good as the expensive brands!</td>\n",
       "      <td>This saltwater taffy had great flavors and was...</td>\n",
       "      <td>2012-06-19 17:00:00</td>\n",
       "      <td>2012</td>\n",
       "      <td>6</td>\n",
       "    </tr>\n",
       "    <tr>\n",
       "      <th>4</th>\n",
       "      <td>7</td>\n",
       "      <td>8</td>\n",
       "      <td>B006K2ZZ7K</td>\n",
       "      <td>A3JRGQVEQN31IQ</td>\n",
       "      <td>Pamela G. Williams</td>\n",
       "      <td>0</td>\n",
       "      <td>0</td>\n",
       "      <td>5</td>\n",
       "      <td>1336003200</td>\n",
       "      <td>Wonderful, tasty taffy</td>\n",
       "      <td>This taffy is so good.  It is very soft and ch...</td>\n",
       "      <td>2012-05-02 17:00:00</td>\n",
       "      <td>2012</td>\n",
       "      <td>5</td>\n",
       "    </tr>\n",
       "  </tbody>\n",
       "</table>\n",
       "</div>"
      ],
      "text/plain": [
       "   Unnamed: 0  Id   ProductId          UserId                    ProfileName  \\\n",
       "0           1   2  B00813GRG4  A1D87F6ZCVE5NK                         dll pa   \n",
       "1           4   5  B006K2ZZ7K  A1UQRSCLF8GW1T  Michael D. Bigham \"M. Wassir\"   \n",
       "2           5   6  B006K2ZZ7K   ADT0SRK1MGOEU                 Twoapennything   \n",
       "3           6   7  B006K2ZZ7K  A1SP2KVKFXXRU1              David C. Sullivan   \n",
       "4           7   8  B006K2ZZ7K  A3JRGQVEQN31IQ             Pamela G. Williams   \n",
       "\n",
       "   HelpfulnessNumerator  HelpfulnessDenominator  Score        Time  \\\n",
       "0                     0                       0      1  1346976000   \n",
       "1                     0                       0      5  1350777600   \n",
       "2                     0                       0      4  1342051200   \n",
       "3                     0                       0      5  1340150400   \n",
       "4                     0                       0      5  1336003200   \n",
       "\n",
       "                                         Summary  \\\n",
       "0                              Not as Advertised   \n",
       "1                                    Great taffy   \n",
       "2                                     Nice Taffy   \n",
       "3  Great!  Just as good as the expensive brands!   \n",
       "4                         Wonderful, tasty taffy   \n",
       "\n",
       "                                                Text         Time_updated  \\\n",
       "0  Product arrived labeled as Jumbo Salted Peanut...  2012-09-06 17:00:00   \n",
       "1  Great taffy at a great price.  There was a wid...  2012-10-20 17:00:00   \n",
       "2  I got a wild hair for taffy and ordered this f...  2012-07-11 17:00:00   \n",
       "3  This saltwater taffy had great flavors and was...  2012-06-19 17:00:00   \n",
       "4  This taffy is so good.  It is very soft and ch...  2012-05-02 17:00:00   \n",
       "\n",
       "   Year  Month  \n",
       "0  2012      9  \n",
       "1  2012     10  \n",
       "2  2012      7  \n",
       "3  2012      6  \n",
       "4  2012      5  "
      ]
     },
     "execution_count": 2,
     "metadata": {},
     "output_type": "execute_result"
    }
   ],
   "source": [
    "data = pd.read_csv('data.csv')\n",
    "data.head()"
   ]
  },
  {
   "cell_type": "code",
   "execution_count": 3,
   "metadata": {},
   "outputs": [
    {
     "data": {
      "text/plain": [
       "(198064, 14)"
      ]
     },
     "execution_count": 3,
     "metadata": {},
     "output_type": "execute_result"
    }
   ],
   "source": [
    "data.shape"
   ]
  },
  {
   "cell_type": "markdown",
   "metadata": {},
   "source": [
    "## Sentimental Analysis"
   ]
  },
  {
   "cell_type": "markdown",
   "metadata": {},
   "source": [
    "### Calculate sentimental score for each review"
   ]
  },
  {
   "cell_type": "code",
   "execution_count": 16,
   "metadata": {
    "collapsed": true
   },
   "outputs": [],
   "source": [
    "# Import sentimental analysis package\n",
    "from vaderSentiment.vaderSentiment import SentimentIntensityAnalyzer\n",
    "# Get the value from the the \"Text\" column\n",
    "Tweets = data[['Text']].values.tolist()\n",
    "# Get the compound sentimental score for each review and append to a list\n",
    "analyzer = SentimentIntensityAnalyzer()\n",
    "Sentiment = []\n",
    "for line in Tweets:\n",
    "    Sentiment.append(analyzer.polarity_scores(line[0])['compound'])\n",
    "# Add a column to data frame for the sentimental score\n",
    "data['Sentiment'] = Sentiment"
   ]
  },
  {
   "cell_type": "code",
   "execution_count": 24,
   "metadata": {},
   "outputs": [
    {
     "data": {
      "text/html": [
       "<div>\n",
       "<style scoped>\n",
       "    .dataframe tbody tr th:only-of-type {\n",
       "        vertical-align: middle;\n",
       "    }\n",
       "\n",
       "    .dataframe tbody tr th {\n",
       "        vertical-align: top;\n",
       "    }\n",
       "\n",
       "    .dataframe thead th {\n",
       "        text-align: right;\n",
       "    }\n",
       "</style>\n",
       "<table border=\"1\" class=\"dataframe\">\n",
       "  <thead>\n",
       "    <tr style=\"text-align: right;\">\n",
       "      <th></th>\n",
       "      <th>Unnamed: 0</th>\n",
       "      <th>Id</th>\n",
       "      <th>ProductId</th>\n",
       "      <th>UserId</th>\n",
       "      <th>ProfileName</th>\n",
       "      <th>HelpfulnessNumerator</th>\n",
       "      <th>HelpfulnessDenominator</th>\n",
       "      <th>Score</th>\n",
       "      <th>Time</th>\n",
       "      <th>Summary</th>\n",
       "      <th>Text</th>\n",
       "      <th>Time_updated</th>\n",
       "      <th>Year</th>\n",
       "      <th>Month</th>\n",
       "      <th>Sentiment</th>\n",
       "    </tr>\n",
       "  </thead>\n",
       "  <tbody>\n",
       "    <tr>\n",
       "      <th>0</th>\n",
       "      <td>1</td>\n",
       "      <td>2</td>\n",
       "      <td>B00813GRG4</td>\n",
       "      <td>A1D87F6ZCVE5NK</td>\n",
       "      <td>dll pa</td>\n",
       "      <td>0</td>\n",
       "      <td>0</td>\n",
       "      <td>1</td>\n",
       "      <td>1346976000</td>\n",
       "      <td>Not as Advertised</td>\n",
       "      <td>Product arrived labeled as Jumbo Salted Peanut...</td>\n",
       "      <td>2012-09-06 17:00:00</td>\n",
       "      <td>2012</td>\n",
       "      <td>9</td>\n",
       "      <td>-0.5664</td>\n",
       "    </tr>\n",
       "    <tr>\n",
       "      <th>1</th>\n",
       "      <td>4</td>\n",
       "      <td>5</td>\n",
       "      <td>B006K2ZZ7K</td>\n",
       "      <td>A1UQRSCLF8GW1T</td>\n",
       "      <td>Michael D. Bigham \"M. Wassir\"</td>\n",
       "      <td>0</td>\n",
       "      <td>0</td>\n",
       "      <td>5</td>\n",
       "      <td>1350777600</td>\n",
       "      <td>Great taffy</td>\n",
       "      <td>Great taffy at a great price.  There was a wid...</td>\n",
       "      <td>2012-10-20 17:00:00</td>\n",
       "      <td>2012</td>\n",
       "      <td>10</td>\n",
       "      <td>0.9468</td>\n",
       "    </tr>\n",
       "    <tr>\n",
       "      <th>2</th>\n",
       "      <td>5</td>\n",
       "      <td>6</td>\n",
       "      <td>B006K2ZZ7K</td>\n",
       "      <td>ADT0SRK1MGOEU</td>\n",
       "      <td>Twoapennything</td>\n",
       "      <td>0</td>\n",
       "      <td>0</td>\n",
       "      <td>4</td>\n",
       "      <td>1342051200</td>\n",
       "      <td>Nice Taffy</td>\n",
       "      <td>I got a wild hair for taffy and ordered this f...</td>\n",
       "      <td>2012-07-11 17:00:00</td>\n",
       "      <td>2012</td>\n",
       "      <td>7</td>\n",
       "      <td>0.8830</td>\n",
       "    </tr>\n",
       "    <tr>\n",
       "      <th>3</th>\n",
       "      <td>6</td>\n",
       "      <td>7</td>\n",
       "      <td>B006K2ZZ7K</td>\n",
       "      <td>A1SP2KVKFXXRU1</td>\n",
       "      <td>David C. Sullivan</td>\n",
       "      <td>0</td>\n",
       "      <td>0</td>\n",
       "      <td>5</td>\n",
       "      <td>1340150400</td>\n",
       "      <td>Great!  Just as good as the expensive brands!</td>\n",
       "      <td>This saltwater taffy had great flavors and was...</td>\n",
       "      <td>2012-06-19 17:00:00</td>\n",
       "      <td>2012</td>\n",
       "      <td>6</td>\n",
       "      <td>0.9346</td>\n",
       "    </tr>\n",
       "    <tr>\n",
       "      <th>4</th>\n",
       "      <td>7</td>\n",
       "      <td>8</td>\n",
       "      <td>B006K2ZZ7K</td>\n",
       "      <td>A3JRGQVEQN31IQ</td>\n",
       "      <td>Pamela G. Williams</td>\n",
       "      <td>0</td>\n",
       "      <td>0</td>\n",
       "      <td>5</td>\n",
       "      <td>1336003200</td>\n",
       "      <td>Wonderful, tasty taffy</td>\n",
       "      <td>This taffy is so good.  It is very soft and ch...</td>\n",
       "      <td>2012-05-02 17:00:00</td>\n",
       "      <td>2012</td>\n",
       "      <td>5</td>\n",
       "      <td>0.9487</td>\n",
       "    </tr>\n",
       "  </tbody>\n",
       "</table>\n",
       "</div>"
      ],
      "text/plain": [
       "   Unnamed: 0  Id   ProductId          UserId                    ProfileName  \\\n",
       "0           1   2  B00813GRG4  A1D87F6ZCVE5NK                         dll pa   \n",
       "1           4   5  B006K2ZZ7K  A1UQRSCLF8GW1T  Michael D. Bigham \"M. Wassir\"   \n",
       "2           5   6  B006K2ZZ7K   ADT0SRK1MGOEU                 Twoapennything   \n",
       "3           6   7  B006K2ZZ7K  A1SP2KVKFXXRU1              David C. Sullivan   \n",
       "4           7   8  B006K2ZZ7K  A3JRGQVEQN31IQ             Pamela G. Williams   \n",
       "\n",
       "   HelpfulnessNumerator  HelpfulnessDenominator  Score        Time  \\\n",
       "0                     0                       0      1  1346976000   \n",
       "1                     0                       0      5  1350777600   \n",
       "2                     0                       0      4  1342051200   \n",
       "3                     0                       0      5  1340150400   \n",
       "4                     0                       0      5  1336003200   \n",
       "\n",
       "                                         Summary  \\\n",
       "0                              Not as Advertised   \n",
       "1                                    Great taffy   \n",
       "2                                     Nice Taffy   \n",
       "3  Great!  Just as good as the expensive brands!   \n",
       "4                         Wonderful, tasty taffy   \n",
       "\n",
       "                                                Text         Time_updated  \\\n",
       "0  Product arrived labeled as Jumbo Salted Peanut...  2012-09-06 17:00:00   \n",
       "1  Great taffy at a great price.  There was a wid...  2012-10-20 17:00:00   \n",
       "2  I got a wild hair for taffy and ordered this f...  2012-07-11 17:00:00   \n",
       "3  This saltwater taffy had great flavors and was...  2012-06-19 17:00:00   \n",
       "4  This taffy is so good.  It is very soft and ch...  2012-05-02 17:00:00   \n",
       "\n",
       "   Year  Month  Sentiment  \n",
       "0  2012      9    -0.5664  \n",
       "1  2012     10     0.9468  \n",
       "2  2012      7     0.8830  \n",
       "3  2012      6     0.9346  \n",
       "4  2012      5     0.9487  "
      ]
     },
     "execution_count": 24,
     "metadata": {},
     "output_type": "execute_result"
    }
   ],
   "source": [
    "data.head()"
   ]
  },
  {
   "cell_type": "markdown",
   "metadata": {},
   "source": [
    "### Good Product "
   ]
  },
  {
   "cell_type": "code",
   "execution_count": 27,
   "metadata": {
    "collapsed": true
   },
   "outputs": [],
   "source": [
    "# Take the average sentiment score for each product as their final score\n",
    "data_high=data.groupby('ProductId').agg({\"Sentiment\":\"mean\"})\\\n",
    "                    .sort_values('Sentiment',ascending = False).reset_index()"
   ]
  },
  {
   "cell_type": "code",
   "execution_count": 28,
   "metadata": {},
   "outputs": [
    {
     "data": {
      "text/html": [
       "<div>\n",
       "<style scoped>\n",
       "    .dataframe tbody tr th:only-of-type {\n",
       "        vertical-align: middle;\n",
       "    }\n",
       "\n",
       "    .dataframe tbody tr th {\n",
       "        vertical-align: top;\n",
       "    }\n",
       "\n",
       "    .dataframe thead th {\n",
       "        text-align: right;\n",
       "    }\n",
       "</style>\n",
       "<table border=\"1\" class=\"dataframe\">\n",
       "  <thead>\n",
       "    <tr style=\"text-align: right;\">\n",
       "      <th></th>\n",
       "      <th>ProductId</th>\n",
       "      <th>Sentiment</th>\n",
       "    </tr>\n",
       "  </thead>\n",
       "  <tbody>\n",
       "    <tr>\n",
       "      <th>0</th>\n",
       "      <td>B0001H1RO0</td>\n",
       "      <td>0.9997</td>\n",
       "    </tr>\n",
       "    <tr>\n",
       "      <th>1</th>\n",
       "      <td>B004R6F88W</td>\n",
       "      <td>0.9995</td>\n",
       "    </tr>\n",
       "    <tr>\n",
       "      <th>2</th>\n",
       "      <td>B001B4NFXI</td>\n",
       "      <td>0.9995</td>\n",
       "    </tr>\n",
       "    <tr>\n",
       "      <th>3</th>\n",
       "      <td>B007B24NKS</td>\n",
       "      <td>0.9994</td>\n",
       "    </tr>\n",
       "    <tr>\n",
       "      <th>4</th>\n",
       "      <td>B008ADQO1I</td>\n",
       "      <td>0.9991</td>\n",
       "    </tr>\n",
       "    <tr>\n",
       "      <th>5</th>\n",
       "      <td>B008ADQNXW</td>\n",
       "      <td>0.9991</td>\n",
       "    </tr>\n",
       "    <tr>\n",
       "      <th>6</th>\n",
       "      <td>B008ADQNZA</td>\n",
       "      <td>0.9991</td>\n",
       "    </tr>\n",
       "    <tr>\n",
       "      <th>7</th>\n",
       "      <td>B005HQQSAI</td>\n",
       "      <td>0.9989</td>\n",
       "    </tr>\n",
       "    <tr>\n",
       "      <th>8</th>\n",
       "      <td>B004D4EII4</td>\n",
       "      <td>0.9989</td>\n",
       "    </tr>\n",
       "    <tr>\n",
       "      <th>9</th>\n",
       "      <td>B001VE2Q2E</td>\n",
       "      <td>0.9987</td>\n",
       "    </tr>\n",
       "  </tbody>\n",
       "</table>\n",
       "</div>"
      ],
      "text/plain": [
       "    ProductId  Sentiment\n",
       "0  B0001H1RO0     0.9997\n",
       "1  B004R6F88W     0.9995\n",
       "2  B001B4NFXI     0.9995\n",
       "3  B007B24NKS     0.9994\n",
       "4  B008ADQO1I     0.9991\n",
       "5  B008ADQNXW     0.9991\n",
       "6  B008ADQNZA     0.9991\n",
       "7  B005HQQSAI     0.9989\n",
       "8  B004D4EII4     0.9989\n",
       "9  B001VE2Q2E     0.9987"
      ]
     },
     "execution_count": 28,
     "metadata": {},
     "output_type": "execute_result"
    }
   ],
   "source": [
    "data_high.head(10)"
   ]
  },
  {
   "cell_type": "code",
   "execution_count": 35,
   "metadata": {
    "collapsed": true
   },
   "outputs": [],
   "source": [
    "# Choose the product with the highest score to see the details of the review\n",
    "data_high_detail=data[(data[\"ProductId\"]==\"B0001H1RO0\")]"
   ]
  },
  {
   "cell_type": "code",
   "execution_count": 38,
   "metadata": {},
   "outputs": [
    {
     "data": {
      "text/plain": [
       "array([['And we find her here upon this grand amazon!<br /><br />Each day Morinu feeds me like my own nourishing mother, cherishes and consents my whims with this wonderful food.<br /><br />Eschew all animal byproducts and cadavers.<br /><br />This tofu is a strengthening food, fit for human consumption.<br /><br />And so convenient from our mighty amazon, sent right to your front porch or, in my case, post office box with free shipping rather than driving thirty to seventy five miles for the same product at three times the price, plus gas.<br /><br />This is fit food for humans, food for which our bodies are created, food which feeds us rather than kills both the source and the consumer.<br /><br />You may read here written by the self-deceived that this tofu is too mushy for firmness and that it must be pressed between towels before cooking. To them so confused I ask<br /><br />Cooking?<br /><br />Each day at least once a day, I draw forth my serrated knife, and one sacrificial box of this excellent tofu, and I without remorse slice a hole in its top, with great tenderness and care and gratitude, releasing only the slightest and most apologetic gentle spurt of clearest liquid.<br /><br />And this with a certain yearning.<br /><br />I do not observe the indications written sternly upon the short edge of the box, but lie this box gently down upon a smooth flat slab of wood, with the face up, and take the knife very gently sliding upon on edge of the top, the very belly of the box, and then upon the other edge of this top, and then most gently along the bottom edge of this top, each time releasing apologetically the slightest hint of a clear liquid, revealing thusly by means of these three slits the gentle hidden secrets of the box, the soft white substance lying shyly within, awaiting with embarrassment our further processing.<br /><br />I feel the need to explain this procedure with greater care and attention. The very tip, the point of the knife, uncovers tenderly a certain point a certain distance from the corner of the broad top of the box, the side with the picture and product label, as pictured here, the side which reads Morinu, the broad flat side laid flat. The very tip of the knife, I say, discovers probingly a certain point near one corner which offers the proper resistance without too great a resistance, without too little a resistance, to penetrate this membrane. Too close to the corner is found to be too hard, too resistant, too unwilling, although most convenient for the later proceedings. Too distant from the corner implies simply random slashings without specific purpose, and our purpose in this procedure is most serious, most purposeful, intent.<br /><br />In a word therefore the point of the knife penetrates the membrane slowly yet purposefully as close to the corner as possible, penetrating as deeply as possible without piercing the wooden slab beneath. A certain spurt of clear liquid may emerge, but let this prove no inhibition, as the knife reaches the depth of the box. Slowly withdraw the knife, slowly, at a diagonal, allowing the serration softly with friction to continue to separate a slight slit along the ege of the box, slowly, resolutely but patiently, with purpose, as the serration creates an ever longer slit along that edge, as closely as possible.<br /><br />Continue from this first slit along the the contiguous edge of the top of this box, and then the third edge, inserting carefully your knife, and slowly withdrawing with a friction sufficient to separate the membrane without shredding, without eliciting over muchly the clear liquid which may spurt forth.<br /><br />Let us call the top right corner of the box Point A, the bottom right corner Point B, the left bottom corner Point C and the upper left corner Point D. Begin to pierce at Point A, proceed in turn to B, to C, ending at D, forming this a slit along the three edges. Arriving at Point D, withdraw the knife completely, wipe the blade with a soft, dry cloth and set it aside for cleansing. We now may lift the flap thus created, exposing the delicate white contents within.<br /><br />I feel remiss if I do not address a probable misconception here writtenonly for the rhetorical convenience, and I feel compelled by the necesity of correcting this counter-indication, no matter how unclear this may be, due only to my severely limiting literary incapacities.<br /><br />Employing the same alphabetical coordinates as described above, the consumer may discover this procedure far more efficacious: to begin at Point A and proceed gently yet firmly to point B as described. Divergently, however, please proceed to point D (!) and then directly by knife edge to point C, parallel to the Line AB already created, yet along the opposing edge. Having thusly formed two parallel slits, find the midpoint between Point B and Point C as close to the edge as possible, probing and then plunging the tip of the knife through the cardboard membrane, through to the bottom of the box, but now with an orientation perpendicular to that previously used in the formation of lines AB and DC. Withdraw slowly, delicately, yet with sufficient friction at an angle to proceed effectively to the corner at Point B. Withdraw completely and reverse the knife blade, returning it deeply at the midpoint previously entered. Withdraw once more with similar care, and opposite diagonal, completing the slit thus formed entirely to Point C. I am confident the consumer may discover this procedure far more delightful and effective than any here previously described.<br /><br />Firmly we roll back the top flap created by the three slits. Proceed mercilessly, proceed, not frenetically, but ardently nevertheless, to dice within the selfsame box her contents, slowly, gently, but decisively. The fresh tip of my serrated knife, which in recent memory has touched no animal part, but vegetable alone, and never shall become so adulterate with the blood of the animal, with the dairy of the animal, this sanctified and reserved and faithful tip, having never known in any sense animal but only vegetable, purified thus, unadulterate, this sacred knife dares therefore pierce this gentle pure white tofu into a ruthless grid of slits, fully through to the bottom box, plunging first vertically in rhythmically repeated rows spaced gently a few centimeters apart, and then, relentlessly, horizontally, pushing ever so softly through the yielding, unresisting white tofu laid back upon the flat slab, awaiting without a word this process, with utter patience, yielding.<br /><br />Completed this repeated slicing, back and forth, up and down, across, and through, and through, I lift in one hand upwards the entire box gently, yet unrelentingly, over the recipient reserved for this purpose alone. Most often it is the daily lunch container, reusable, with soft top, to receive the more securely and gently this daily offering, removed demurely from its box, as cautiously as a hermit crab from its borrowed shell, vulnerable by exposure. With one finger one may remove whatever residue remains relunctly within the package, passing it reassuringly into the ultimate recipient.<br /><br />Lime juice freshly squeezed upon the tofu deposited there, as ablution, meets fragrant sprigs of fresh green cilantro mated with whole Corriander Seeds 7oz, and a generous ladling of the Eden Organic Garbanzo Beans, 15-Ounce Unit (Pack of 12) also available upon this generously nutrient amazon. This is a meal in itself, and comes most welcome at noon.<br /><br />At night rather than such a cold lunch, in this cold winter a warmer meal is wanted, and so this gentle and yielding box of nutritious tofu might discover herself pushed gently into a saucepan of simmering miso soup, such as, perhaps, Shiro Miso Paste NON GMO No MSG Added. This miso soup would take far greater space to describe here in the making. From this container of miso paste draw forth a goodly spoonful to introduce slowly, most politely, into a gently heating small saucepan of water. Later, in place of seaweed and to deceive my own palate, I place those small flat spinach leaves available in the organic department of your local market, perhaps with the results of a small onion diced very carefully in the manner approved as described above, or green onion.<br /><br />When quite ready for dinner, I add last of all to this essence this gentle box of tofu, sliced as described above, with great and tender care, leaving it bathing one might dare say, only long enough to warm through and through, before eating.<br /><br />A veritable meal in itself.<br /><br />There are so many other manners in which to use, and to abuse, this pure, white and utterly nutritious gentle product, and I can only with my utmost recommendation say, and this with my greatest gratitude, that here at long last we may know a food most willingly fit for our human consumption, and one most readily available upon this wonderful amazon.<br /><br />Great shelf life in this packaging, patiently awaiting your most tender mercies and privileged attentions, but out here in this desert I still keep it in the fridge!']],\n",
       "      dtype=object)"
      ]
     },
     "execution_count": 38,
     "metadata": {},
     "output_type": "execute_result"
    }
   ],
   "source": [
    "data_high_detail[['Text']].values"
   ]
  },
  {
   "cell_type": "code",
   "execution_count": 29,
   "metadata": {
    "collapsed": true
   },
   "outputs": [],
   "source": [
    "# Select top 10 product with the highest score as good product\n",
    "good_prod=data_high.head(10)"
   ]
  },
  {
   "cell_type": "code",
   "execution_count": 30,
   "metadata": {
    "collapsed": true
   },
   "outputs": [],
   "source": [
    "# Write the good product files into CSV\n",
    "good_prod.to_csv(\"good_prod.csv\")"
   ]
  },
  {
   "cell_type": "markdown",
   "metadata": {},
   "source": [
    "### Bad Product "
   ]
  },
  {
   "cell_type": "code",
   "execution_count": 31,
   "metadata": {
    "collapsed": true
   },
   "outputs": [],
   "source": [
    "# Take the average sentiment score for each product as their final score\n",
    "data_low=data.groupby('ProductId').agg({\"Sentiment\":\"mean\"})\\\n",
    "                    .sort_values('Sentiment',ascending = True).reset_index()"
   ]
  },
  {
   "cell_type": "code",
   "execution_count": 32,
   "metadata": {},
   "outputs": [
    {
     "data": {
      "text/html": [
       "<div>\n",
       "<style scoped>\n",
       "    .dataframe tbody tr th:only-of-type {\n",
       "        vertical-align: middle;\n",
       "    }\n",
       "\n",
       "    .dataframe tbody tr th {\n",
       "        vertical-align: top;\n",
       "    }\n",
       "\n",
       "    .dataframe thead th {\n",
       "        text-align: right;\n",
       "    }\n",
       "</style>\n",
       "<table border=\"1\" class=\"dataframe\">\n",
       "  <thead>\n",
       "    <tr style=\"text-align: right;\">\n",
       "      <th></th>\n",
       "      <th>ProductId</th>\n",
       "      <th>Sentiment</th>\n",
       "    </tr>\n",
       "  </thead>\n",
       "  <tbody>\n",
       "    <tr>\n",
       "      <th>0</th>\n",
       "      <td>B0025UNRLW</td>\n",
       "      <td>-0.9957</td>\n",
       "    </tr>\n",
       "    <tr>\n",
       "      <th>1</th>\n",
       "      <td>B000WFLQR4</td>\n",
       "      <td>-0.9918</td>\n",
       "    </tr>\n",
       "    <tr>\n",
       "      <th>2</th>\n",
       "      <td>B000WFEODC</td>\n",
       "      <td>-0.9892</td>\n",
       "    </tr>\n",
       "    <tr>\n",
       "      <th>3</th>\n",
       "      <td>B00008GQ50</td>\n",
       "      <td>-0.9892</td>\n",
       "    </tr>\n",
       "    <tr>\n",
       "      <th>4</th>\n",
       "      <td>B002X9HAV8</td>\n",
       "      <td>-0.9887</td>\n",
       "    </tr>\n",
       "    <tr>\n",
       "      <th>5</th>\n",
       "      <td>B003M58692</td>\n",
       "      <td>-0.9863</td>\n",
       "    </tr>\n",
       "    <tr>\n",
       "      <th>6</th>\n",
       "      <td>B006Z46G3K</td>\n",
       "      <td>-0.9846</td>\n",
       "    </tr>\n",
       "    <tr>\n",
       "      <th>7</th>\n",
       "      <td>B0025UC8JO</td>\n",
       "      <td>-0.9835</td>\n",
       "    </tr>\n",
       "    <tr>\n",
       "      <th>8</th>\n",
       "      <td>B0025ULWVE</td>\n",
       "      <td>-0.9820</td>\n",
       "    </tr>\n",
       "    <tr>\n",
       "      <th>9</th>\n",
       "      <td>B000GPY38E</td>\n",
       "      <td>-0.9803</td>\n",
       "    </tr>\n",
       "  </tbody>\n",
       "</table>\n",
       "</div>"
      ],
      "text/plain": [
       "    ProductId  Sentiment\n",
       "0  B0025UNRLW    -0.9957\n",
       "1  B000WFLQR4    -0.9918\n",
       "2  B000WFEODC    -0.9892\n",
       "3  B00008GQ50    -0.9892\n",
       "4  B002X9HAV8    -0.9887\n",
       "5  B003M58692    -0.9863\n",
       "6  B006Z46G3K    -0.9846\n",
       "7  B0025UC8JO    -0.9835\n",
       "8  B0025ULWVE    -0.9820\n",
       "9  B000GPY38E    -0.9803"
      ]
     },
     "execution_count": 32,
     "metadata": {},
     "output_type": "execute_result"
    }
   ],
   "source": [
    "data_low.head(10)"
   ]
  },
  {
   "cell_type": "code",
   "execution_count": 44,
   "metadata": {
    "collapsed": true
   },
   "outputs": [],
   "source": [
    "# Choose the product with the lowest score to see the details of the review\n",
    "data_low_detail=data[(data[\"ProductId\"]==\"B0025UNRLW\")]"
   ]
  },
  {
   "cell_type": "code",
   "execution_count": 45,
   "metadata": {},
   "outputs": [
    {
     "data": {
      "text/plain": [
       "array([['Since this is individually packaged sweet pickle relish why on earth is FD&C Blue 1 (which is derived from petroleum) included as an ingredient?<br /><br />It is bad enough these pickle relish packets contain HFCS, or HIGH FRUCTOSE CORN SYRUP which NONE of us need for our ever expanding mid-lines, but it also contains FD&C BLUE 1 of which some of us cannot consume without dire consequences!  FD&C BLUE 1 causes severe abdominal distress in a percentage of the population (many of whom have yet to make the connection).  If you aren\\'t sure why Blue 1 is such a bad idea, check out the FDA press release stating blue 1 is \"casually linked\" to fatalities they investigated.<br /><br />I recently attended an event where these relish packets (and another brand - also contains blue 1) were served. Stoopidly I dumped the packet onto my food and a few hours later, like clockwork, I was in severe abdominal distress. Major GI issues. Checking around, sure enough, these packets show blue 1 in the ingredients.  Just 1 packet had me doubled over in pain.. and much worse.  I cannot even enjoy a hot dog at a baseball game without worrying some company executive decided to add a petroleum based food coloring to PACKAGED PICKLE RELISH!!<br /><br />Parents: if you aren\\'t sure why your kids randomly seem to develop stomach aches, diarrhea, abdominal distress, bloating, cramping or worse - bloody stools, start reading the food labels of everything consumed 24-36 hours prior to onset. A pattern will undoubtedly emerge...']],\n",
       "      dtype=object)"
      ]
     },
     "execution_count": 45,
     "metadata": {},
     "output_type": "execute_result"
    }
   ],
   "source": [
    "data_low_detail[['Text']].values"
   ]
  },
  {
   "cell_type": "code",
   "execution_count": 33,
   "metadata": {
    "collapsed": true
   },
   "outputs": [],
   "source": [
    "#Write the bad product files into CSV\n",
    "bad_prod=data_low.head(10)\n",
    "bad_prod.to_csv(\"bad_prod.csv\")"
   ]
  },
  {
   "cell_type": "code",
   "execution_count": null,
   "metadata": {
    "collapsed": true
   },
   "outputs": [],
   "source": []
  }
 ],
 "metadata": {
  "kernelspec": {
   "display_name": "Python 3",
   "language": "python",
   "name": "python3"
  },
  "language_info": {
   "codemirror_mode": {
    "name": "ipython",
    "version": 3
   },
   "file_extension": ".py",
   "mimetype": "text/x-python",
   "name": "python",
   "nbconvert_exporter": "python",
   "pygments_lexer": "ipython3",
   "version": "3.6.3"
  }
 },
 "nbformat": 4,
 "nbformat_minor": 2
}
